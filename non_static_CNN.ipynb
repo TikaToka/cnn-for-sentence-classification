{
 "cells": [
  {
   "cell_type": "code",
   "execution_count": 1,
   "source": [
    "import tensorflow as tf\r\n",
    "\r\n",
    "#Naver Sentiment Movie Corpus 다운\r\n",
    "path_to_train_file = tf.keras.utils.get_file('train.txt', 'https://raw.githubusercontent.com/e9t/nsmc/master/ratings_train.txt')\r\n",
    "path_to_test_file = tf.keras.utils.get_file('test.txt', 'https://raw.githubusercontent.com/e9t/nsmc/master/ratings_test.txt')\r\n"
   ],
   "outputs": [],
   "metadata": {}
  },
  {
   "cell_type": "code",
   "execution_count": 2,
   "source": [
    "#데이터 로드 및 확인\r\n",
    "train_text = open(path_to_train_file, 'rb').read().decode(encoding='utf-8')\r\n",
    "test_text = open(path_to_test_file, 'rb').read().decode(encoding='utf-8')\r\n",
    "\r\n",
    "# 텍스트가 총 몇 자인지 확인\r\n",
    "print('Length of text: {} characters'.format(len(train_text)))\r\n",
    "print('Length of text: {} characters'.format(len(test_text)))\r\n",
    "print()\r\n",
    "\r\n",
    "# 처음 300 자를 확인\r\n",
    "print(train_text[:300])"
   ],
   "outputs": [
    {
     "output_type": "stream",
     "name": "stdout",
     "text": [
      "Length of text: 6937271 characters\n",
      "Length of text: 2318260 characters\n",
      "\n",
      "id\tdocument\tlabel\n",
      "9976970\t아 더빙.. 진짜 짜증나네요 목소리\t0\n",
      "3819312\t흠...포스터보고 초딩영화줄....오버연기조차 가볍지 않구나\t1\n",
      "10265843\t너무재밓었다그래서보는것을추천한다\t0\n",
      "9045019\t교도소 이야기구먼 ..솔직히 재미는 없다..평점 조정\t0\n",
      "6483659\t사이몬페그의 익살스런 연기가 돋보였던 영화!스파이더맨에서 늙어보이기만 했던 커스틴 던스트가 너무나도 이뻐보였다\t1\n",
      "5403919\t막 걸음마 뗀 3세부터 초등학교 1학년생인 8살용영화.ㅋㅋㅋ...별반개도 아까움.\t0\n",
      "7797314\t원작의\n"
     ]
    }
   ],
   "metadata": {}
  },
  {
   "cell_type": "code",
   "execution_count": 3,
   "source": [
    "import numpy as np\r\n",
    "\r\n",
    "#학습을 위한 정답 데이터(train_Y) 만들기\r\n",
    "train_Y = np.array([[int(row.split('\\t')[2])] for row in train_text.split('\\n')[1:] if row.count('\\t') > 0])\r\n",
    "test_Y = np.array([[int(row.split('\\t')[2])] for row in test_text.split('\\n')[1:] if row.count('\\t') > 0])\r\n",
    "print(train_Y.shape, test_Y.shape)\r\n",
    "print(train_Y[:5])\r\n"
   ],
   "outputs": [
    {
     "output_type": "stream",
     "name": "stdout",
     "text": [
      "(150000, 1) (50000, 1)\n",
      "[[0]\n",
      " [1]\n",
      " [0]\n",
      " [0]\n",
      " [1]]\n"
     ]
    }
   ],
   "metadata": {}
  },
  {
   "cell_type": "code",
   "execution_count": 4,
   "source": [
    "#train 데이터의 입력(X)에 대한 정제(Cleaning)\r\n",
    "import re\r\n",
    "# From https://github.com/yoonkim/CNN_sentence/blob/master/process_data.py\r\n",
    "def clean_str(string):\r\n",
    "    string = re.sub(r\"[^가-힣A-Za-z0-9(),!?\\'\\`]\", \" \", string)\r\n",
    "    string = re.sub(r\"\\'s\", \" \\'s\", string)\r\n",
    "    string = re.sub(r\"\\'ve\", \" \\'ve\", string)\r\n",
    "    string = re.sub(r\"n\\'t\", \" n\\'t\", string)\r\n",
    "    string = re.sub(r\"\\'re\", \" \\'re\", string)\r\n",
    "    string = re.sub(r\"\\'d\", \" \\'d\", string)\r\n",
    "    string = re.sub(r\"\\'ll\", \" \\'ll\", string)\r\n",
    "    string = re.sub(r\",\", \" , \", string)\r\n",
    "    string = re.sub(r\"!\", \" ! \", string)\r\n",
    "    string = re.sub(r\"\\(\", \" \\( \", string)\r\n",
    "    string = re.sub(r\"\\)\", \" \\) \", string)\r\n",
    "    string = re.sub(r\"\\?\", \" \\? \", string)\r\n",
    "    string = re.sub(r\"\\s{2,}\", \" \", string)\r\n",
    "    string = re.sub(r\"\\'{2,}\", \"\\'\", string)\r\n",
    "    string = re.sub(r\"\\'\", \"\", string)\r\n",
    "    return string.lower()"
   ],
   "outputs": [],
   "metadata": {}
  },
  {
   "cell_type": "code",
   "execution_count": 5,
   "source": [
    "train_text_X = [row.split('\\t')[1] for row in train_text.split('\\n')[1:] if row.count('\\t') > 0]\r\n",
    "train_text_X = [clean_str(sentence) for sentence in train_text_X]\r\n",
    "sentences = [sentence.split(' ') for sentence in train_text_X]"
   ],
   "outputs": [],
   "metadata": {}
  },
  {
   "cell_type": "code",
   "execution_count": 6,
   "source": [
    "#각 문장의 단어 길이 확인\r\n",
    "import matplotlib.pyplot as plt\r\n",
    "\r\n",
    "sentence_len = [len(sentence) for sentence in sentences]\r\n",
    "\r\n",
    "sentence_len.sort()\r\n",
    "plt.plot(sentence_len)\r\n",
    "plt.show()\r\n",
    "print(sum([int(l<=25) for l in sentence_len]))"
   ],
   "outputs": [
    {
     "output_type": "display_data",
     "data": {
      "text/plain": [
       "<Figure size 432x288 with 1 Axes>"
      ],
      "image/png": "[encoded data removed]"
     },
     "metadata": {
      "needs_background": "light"
     }
    },
    {
     "output_type": "stream",
     "name": "stdout",
     "text": [
      "142587\n"
     ]
    }
   ],
   "metadata": {}
  },
  {
   "cell_type": "code",
   "execution_count": 7,
   "source": [
    "# 단어 정제 및 문장 길이 줄임\r\n",
    "sentences_new = []\r\n",
    "for sentence in sentences:\r\n",
    "    sentences_new.append([word[:5] for word in sentence][:25])\r\n",
    "    sentences = sentences_new\r\n",
    "for i in range(5):\r\n",
    "    print(sentences[i])\r\n"
   ],
   "outputs": [
    {
     "output_type": "stream",
     "name": "stdout",
     "text": [
      "['아', '더빙', '진짜', '짜증나네요', '목소리']\n",
      "['흠', '포스터보고', '초딩영화줄', '오버연기조', '가볍지', '않구나']\n",
      "['너무재밓었']\n",
      "['교도소', '이야기구먼', '솔직히', '재미는', '없다', '평점', '조정']\n",
      "['사이몬페그', '익살스런', '연기가', '돋보였던', '영화', '!', '스파이더맨', '늙어보이기', '했던', '커스틴', '던스트가', '너무나도', '이뻐보였다']\n"
     ]
    }
   ],
   "metadata": {}
  },
  {
   "cell_type": "code",
   "execution_count": 8,
   "source": [
    "# Tokenizer와 pad_sequences를 사용한 문장 전처리\r\n",
    "from tensorflow.keras.preprocessing.text import Tokenizer\r\n",
    "from tensorflow.keras.preprocessing.sequence import pad_sequences\r\n",
    "from konlpy.tag import Mecab\r\n",
    "\r\n",
    "vocab_size = 10000\r\n",
    "embedding_dim = 16\r\n",
    "max_length = 120\r\n",
    "trunc_type = 'post'\r\n",
    "oov_tok = '<oov>'\r\n",
    "\r\n",
    "tokenizer = Tokenizer(num_words=vocab_size, oov_token = oov_tok)\r\n",
    "tokenizer.fit_on_texts(sentences)\r\n",
    "train_X = tokenizer.texts_to_sequences(sentences)\r\n",
    "train_X = pad_sequences(train_X, padding='post',  maxlen=max_length, truncating=trunc_type)\r\n",
    "print(train_X[:5])"
   ],
   "outputs": [
    {
     "output_type": "stream",
     "name": "stdout",
     "text": [
      "[[  26  885    9 5796 1112    0    0    0    0    0    0    0    0    0\n",
      "     0    0    0    0    0    0    0    0    0    0    0    0    0    0\n",
      "     0    0    0    0    0    0    0    0    0    0    0    0    0    0\n",
      "     0    0    0    0    0    0    0    0    0    0    0    0    0    0\n",
      "     0    0    0    0    0    0    0    0    0    0    0    0    0    0\n",
      "     0    0    0    0    0    0    0    0    0    0    0    0    0    0\n",
      "     0    0    0    0    0    0    0    0    0    0    0    0    0    0\n",
      "     0    0    0    0    0    0    0    0    0    0    0    0    0    0\n",
      "     0    0    0    0    0    0    0    0]\n",
      " [ 589 5797    1    1 6698    1    0    0    0    0    0    0    0    0\n",
      "     0    0    0    0    0    0    0    0    0    0    0    0    0    0\n",
      "     0    0    0    0    0    0    0    0    0    0    0    0    0    0\n",
      "     0    0    0    0    0    0    0    0    0    0    0    0    0    0\n",
      "     0    0    0    0    0    0    0    0    0    0    0    0    0    0\n",
      "     0    0    0    0    0    0    0    0    0    0    0    0    0    0\n",
      "     0    0    0    0    0    0    0    0    0    0    0    0    0    0\n",
      "     0    0    0    0    0    0    0    0    0    0    0    0    0    0\n",
      "     0    0    0    0    0    0    0    0]\n",
      " [   1    0    0    0    0    0    0    0    0    0    0    0    0    0\n",
      "     0    0    0    0    0    0    0    0    0    0    0    0    0    0\n",
      "     0    0    0    0    0    0    0    0    0    0    0    0    0    0\n",
      "     0    0    0    0    0    0    0    0    0    0    0    0    0    0\n",
      "     0    0    0    0    0    0    0    0    0    0    0    0    0    0\n",
      "     0    0    0    0    0    0    0    0    0    0    0    0    0    0\n",
      "     0    0    0    0    0    0    0    0    0    0    0    0    0    0\n",
      "     0    0    0    0    0    0    0    0    0    0    0    0    0    0\n",
      "     0    0    0    0    0    0    0    0]\n",
      " [   1    1   72  347   32   36    1    0    0    0    0    0    0    0\n",
      "     0    0    0    0    0    0    0    0    0    0    0    0    0    0\n",
      "     0    0    0    0    0    0    0    0    0    0    0    0    0    0\n",
      "     0    0    0    0    0    0    0    0    0    0    0    0    0    0\n",
      "     0    0    0    0    0    0    0    0    0    0    0    0    0    0\n",
      "     0    0    0    0    0    0    0    0    0    0    0    0    0    0\n",
      "     0    0    0    0    0    0    0    0    0    0    0    0    0    0\n",
      "     0    0    0    0    0    0    0    0    0    0    0    0    0    0\n",
      "     0    0    0    0    0    0    0    0]\n",
      " [   1    1  107 5339    5    3 2170    1  870    1    1  574    1    0\n",
      "     0    0    0    0    0    0    0    0    0    0    0    0    0    0\n",
      "     0    0    0    0    0    0    0    0    0    0    0    0    0    0\n",
      "     0    0    0    0    0    0    0    0    0    0    0    0    0    0\n",
      "     0    0    0    0    0    0    0    0    0    0    0    0    0    0\n",
      "     0    0    0    0    0    0    0    0    0    0    0    0    0    0\n",
      "     0    0    0    0    0    0    0    0    0    0    0    0    0    0\n",
      "     0    0    0    0    0    0    0    0    0    0    0    0    0    0\n",
      "     0    0    0    0    0    0    0    0]]\n"
     ]
    }
   ],
   "metadata": {}
  },
  {
   "cell_type": "code",
   "execution_count": 9,
   "source": [
    "# 감성 분석을 위한 모델 정의\r\n",
    "model = tf.keras.Sequential([\r\n",
    "                             tf.keras.layers.Embedding(vocab_size, embedding_dim, input_length=max_length),\r\n",
    "                             tf.keras.layers.Conv1D(128, 5, activation='relu'),\r\n",
    "                             tf.keras.layers.GlobalAveragePooling1D(),\r\n",
    "                             tf.keras.layers.Dense(64, activation='relu'),\r\n",
    "                             tf.keras.layers.Dense(1, activation='sigmoid')\r\n",
    "\r\n",
    "])"
   ],
   "outputs": [],
   "metadata": {}
  },
  {
   "cell_type": "code",
   "execution_count": 10,
   "source": [
    "model.compile(optimizer='adam', loss='binary_crossentropy', metrics=['accuracy'])\r\n",
    "model.summary()"
   ],
   "outputs": [
    {
     "output_type": "stream",
     "name": "stdout",
     "text": [
      "Model: \"sequential\"\n",
      "_________________________________________________________________\n",
      "Layer (type)                 Output Shape              Param #   \n",
      "=================================================================\n",
      "embedding (Embedding)        (None, 120, 16)           160000    \n",
      "_________________________________________________________________\n",
      "conv1d (Conv1D)              (None, 116, 128)          10368     \n",
      "_________________________________________________________________\n",
      "global_average_pooling1d (Gl (None, 128)               0         \n",
      "_________________________________________________________________\n",
      "dense (Dense)                (None, 64)                8256      \n",
      "_________________________________________________________________\n",
      "dense_1 (Dense)              (None, 1)                 65        \n",
      "=================================================================\n",
      "Total params: 178,689\n",
      "Trainable params: 178,689\n",
      "Non-trainable params: 0\n",
      "_________________________________________________________________\n"
     ]
    }
   ],
   "metadata": {}
  },
  {
   "cell_type": "code",
   "execution_count": 11,
   "source": [
    "#감성 분석 모델 학습\r\n",
    "history = model.fit(train_X, train_Y, epochs=3, batch_size=128, validation_split=0.2)"
   ],
   "outputs": [
    {
     "output_type": "stream",
     "name": "stdout",
     "text": [
      "Epoch 1/3\n",
      "938/938 [==============================] - 22s 23ms/step - loss: 0.4911 - accuracy: 0.7462 - val_loss: 0.4028 - val_accuracy: 0.8095\n",
      "Epoch 2/3\n",
      "938/938 [==============================] - 21s 23ms/step - loss: 0.3754 - accuracy: 0.8208 - val_loss: 0.3948 - val_accuracy: 0.8115\n",
      "Epoch 3/3\n",
      "938/938 [==============================] - 21s 23ms/step - loss: 0.3572 - accuracy: 0.8296 - val_loss: 0.3959 - val_accuracy: 0.8108\n"
     ]
    }
   ],
   "metadata": {}
  },
  {
   "cell_type": "code",
   "execution_count": 12,
   "source": [
    "# 테스트 데이터 평가\r\n",
    "test_text_X = [row.split('\\t')[1] for row in test_text.split('\\n')[1:] if row.count('\\t') > 0]\r\n",
    "test_text_X = [clean_str(sentence) for sentence in test_text_X]\r\n",
    "sentences = [sentence.split(' ') for sentence in test_text_X]\r\n",
    "sentences_new = []\r\n",
    "for sentence in sentences:\r\n",
    "    sentences_new.append([word[:5] for word in sentence][:25])\r\n",
    "sentences = sentences_new\r\n",
    "test_X = tokenizer.texts_to_sequences(sentences)\r\n",
    "test_X = pad_sequences(test_X, padding='post')\r\n",
    "model.evaluate(test_X, test_Y, verbose=0)"
   ],
   "outputs": [
    {
     "output_type": "stream",
     "name": "stdout",
     "text": [
      "WARNING:tensorflow:Model was constructed with shape (None, 120) for input KerasTensor(type_spec=TensorSpec(shape=(None, 120), dtype=tf.float32, name='embedding_input'), name='embedding_input', description=\"created by layer 'embedding_input'\"), but it was called on an input with incompatible shape (None, 25).\n"
     ]
    },
    {
     "output_type": "execute_result",
     "data": {
      "text/plain": [
       "[0.6366502046585083, 0.8011999726295471]"
      ]
     },
     "metadata": {},
     "execution_count": 12
    }
   ],
   "metadata": {}
  },
  {
   "cell_type": "code",
   "execution_count": 13,
   "source": [
    "test_text_X[:5]"
   ],
   "outputs": [
    {
     "output_type": "execute_result",
     "data": {
      "text/plain": [
       "['굳 ',\n",
       " 'gdntopclassintheclub',\n",
       " '뭐야 이 평점들은 나쁘진 않지만 10점 짜리는 더더욱 아니잖아',\n",
       " '지루하지는 않은데 완전 막장임 돈주고 보기에는 ',\n",
       " '3d만 아니었어도 별 다섯 개 줬을텐데 왜 3d로 나와서 제 심기를 불편하게 하죠 \\\\? \\\\? ']"
      ]
     },
     "metadata": {},
     "execution_count": 13
    }
   ],
   "metadata": {}
  }
 ],
 "metadata": {
  "orig_nbformat": 4,
  "language_info": {
   "name": "python",
   "version": "3.8.8",
   "mimetype": "text/x-python",
   "codemirror_mode": {
    "name": "ipython",
    "version": 3
   },
   "pygments_lexer": "ipython3",
   "nbconvert_exporter": "python",
   "file_extension": ".py"
  },
  "kernelspec": {
   "name": "python3",
   "display_name": "Python 3.8.8 64-bit ('GalBook_Trial1': conda)"
  },
  "interpreter": {
   "hash": "0933dbd68c81f720053f1429412209114176850c7e7e4a09951cac4adc2024b5"
  }
 },
 "nbformat": 4,
 "nbformat_minor": 2
}